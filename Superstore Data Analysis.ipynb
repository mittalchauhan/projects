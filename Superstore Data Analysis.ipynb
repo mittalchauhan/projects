{
 "cells": [
  {
   "cell_type": "markdown",
   "id": "c3155da2",
   "metadata": {},
   "source": [
    " ### import the libraries or packages"
   ]
  },
  {
   "cell_type": "code",
   "execution_count": 1,
   "id": "a35b0e42",
   "metadata": {},
   "outputs": [],
   "source": [
    "# pandas\n",
    "import pandas as pd\n",
    "\n",
    "# numpy\n",
    "import numpy as np\n",
    "\n",
    "# seaborn\n",
    "import seaborn as sns\n",
    "\n",
    "# matplotlib\n",
    "import matplotlib.pyplot as plt"
   ]
  },
  {
   "cell_type": "code",
   "execution_count": 2,
   "id": "8ecb6412",
   "metadata": {},
   "outputs": [
    {
     "data": {
      "text/html": [
       "<div>\n",
       "<style scoped>\n",
       "    .dataframe tbody tr th:only-of-type {\n",
       "        vertical-align: middle;\n",
       "    }\n",
       "\n",
       "    .dataframe tbody tr th {\n",
       "        vertical-align: top;\n",
       "    }\n",
       "\n",
       "    .dataframe thead th {\n",
       "        text-align: right;\n",
       "    }\n",
       "</style>\n",
       "<table border=\"1\" class=\"dataframe\">\n",
       "  <thead>\n",
       "    <tr style=\"text-align: right;\">\n",
       "      <th></th>\n",
       "      <th>State</th>\n",
       "      <th>Segment</th>\n",
       "      <th>Region</th>\n",
       "      <th>Ship Mode</th>\n",
       "      <th>Sales</th>\n",
       "      <th>Quantity</th>\n",
       "      <th>Discount</th>\n",
       "      <th>Profit</th>\n",
       "    </tr>\n",
       "  </thead>\n",
       "  <tbody>\n",
       "    <tr>\n",
       "      <th>0</th>\n",
       "      <td>Kentucky</td>\n",
       "      <td>Consumer</td>\n",
       "      <td>South</td>\n",
       "      <td>Second Class</td>\n",
       "      <td>261.9600</td>\n",
       "      <td>2.0</td>\n",
       "      <td>0.00</td>\n",
       "      <td>41.9136</td>\n",
       "    </tr>\n",
       "    <tr>\n",
       "      <th>1</th>\n",
       "      <td>Kentucky</td>\n",
       "      <td>Consumer</td>\n",
       "      <td>South</td>\n",
       "      <td>Second Class</td>\n",
       "      <td>731.9400</td>\n",
       "      <td>3.0</td>\n",
       "      <td>0.00</td>\n",
       "      <td>219.5820</td>\n",
       "    </tr>\n",
       "    <tr>\n",
       "      <th>2</th>\n",
       "      <td>California</td>\n",
       "      <td>Corporate</td>\n",
       "      <td>West</td>\n",
       "      <td>Second Class</td>\n",
       "      <td>14.6200</td>\n",
       "      <td>2.0</td>\n",
       "      <td>0.00</td>\n",
       "      <td>6.8714</td>\n",
       "    </tr>\n",
       "    <tr>\n",
       "      <th>3</th>\n",
       "      <td>Florida</td>\n",
       "      <td>Consumer</td>\n",
       "      <td>South</td>\n",
       "      <td>Standard Class</td>\n",
       "      <td>957.5775</td>\n",
       "      <td>5.0</td>\n",
       "      <td>0.45</td>\n",
       "      <td>-383.0310</td>\n",
       "    </tr>\n",
       "    <tr>\n",
       "      <th>4</th>\n",
       "      <td>Florida</td>\n",
       "      <td>Consumer</td>\n",
       "      <td>South</td>\n",
       "      <td>Standard Class</td>\n",
       "      <td>22.3680</td>\n",
       "      <td>2.0</td>\n",
       "      <td>0.20</td>\n",
       "      <td>2.5164</td>\n",
       "    </tr>\n",
       "  </tbody>\n",
       "</table>\n",
       "</div>"
      ],
      "text/plain": [
       "        State    Segment Region       Ship Mode     Sales  Quantity  Discount  \\\n",
       "0    Kentucky   Consumer  South    Second Class  261.9600       2.0      0.00   \n",
       "1    Kentucky   Consumer  South    Second Class  731.9400       3.0      0.00   \n",
       "2  California  Corporate   West    Second Class   14.6200       2.0      0.00   \n",
       "3     Florida   Consumer  South  Standard Class  957.5775       5.0      0.45   \n",
       "4     Florida   Consumer  South  Standard Class   22.3680       2.0      0.20   \n",
       "\n",
       "     Profit  \n",
       "0   41.9136  \n",
       "1  219.5820  \n",
       "2    6.8714  \n",
       "3 -383.0310  \n",
       "4    2.5164  "
      ]
     },
     "execution_count": 2,
     "metadata": {},
     "output_type": "execute_result"
    }
   ],
   "source": [
    "# Load the data and show the first 5 observations\n",
    "df_superstore=pd.read_excel(\"Superstore Data.xlsx\")\n",
    "df_superstore.head() \n",
    "\n",
    "# don't forgot to use tab to acess variable quickly by their name"
   ]
  },
  {
   "cell_type": "markdown",
   "id": "a4270350",
   "metadata": {},
   "source": [
    "- explore all reading functions from json to sql \n",
    "- like how to load data in csv or excel format\n",
    "- show above as well"
   ]
  },
  {
   "cell_type": "markdown",
   "id": "0b054086",
   "metadata": {},
   "source": [
    "# Data Overview"
   ]
  },
  {
   "cell_type": "code",
   "execution_count": 3,
   "id": "12b15f86",
   "metadata": {},
   "outputs": [
    {
     "data": {
      "text/plain": [
       "Index(['State', 'Segment', 'Region', 'Ship Mode', 'Sales', 'Quantity',\n",
       "       'Discount', 'Profit'],\n",
       "      dtype='object')"
      ]
     },
     "execution_count": 3,
     "metadata": {},
     "output_type": "execute_result"
    }
   ],
   "source": [
    "df_superstore.columns"
   ]
  },
  {
   "cell_type": "markdown",
   "id": "0b8723d9",
   "metadata": {},
   "source": [
    "**Data Description**\n",
    "- 'State':Place(State) where customer belongs\n",
    "- 'Segment':Product usage belongs\n",
    "- 'Region':Region where product is delivered\n",
    "- 'Ship Mode':Mode used to ship the Product\n",
    "- 'Sales':Sales in USD\n",
    "- 'Quantity':Quantity of the Product\n",
    "- 'Discount': Discount on that deal\n",
    "- 'Profit': Profit draw form the deal"
   ]
  },
  {
   "cell_type": "code",
   "execution_count": 4,
   "id": "7ecf5bb0",
   "metadata": {},
   "outputs": [
    {
     "data": {
      "text/plain": [
       "(1498, 8)"
      ]
     },
     "execution_count": 4,
     "metadata": {},
     "output_type": "execute_result"
    }
   ],
   "source": [
    "# Shape of the Data\n",
    "df_superstore.shape"
   ]
  },
  {
   "cell_type": "markdown",
   "id": "728152e5",
   "metadata": {},
   "source": [
    "**we have 1498 Observations and 8 attributes**"
   ]
  },
  {
   "cell_type": "code",
   "execution_count": 5,
   "id": "582d4fc2",
   "metadata": {},
   "outputs": [
    {
     "name": "stdout",
     "output_type": "stream",
     "text": [
      "<class 'pandas.core.frame.DataFrame'>\n",
      "RangeIndex: 1498 entries, 0 to 1497\n",
      "Data columns (total 8 columns):\n",
      " #   Column     Non-Null Count  Dtype  \n",
      "---  ------     --------------  -----  \n",
      " 0   State      1423 non-null   object \n",
      " 1   Segment    1493 non-null   object \n",
      " 2   Region     1477 non-null   object \n",
      " 3   Ship Mode  1469 non-null   object \n",
      " 4   Sales      1468 non-null   float64\n",
      " 5   Quantity   1491 non-null   float64\n",
      " 6   Discount   1495 non-null   float64\n",
      " 7   Profit     1495 non-null   float64\n",
      "dtypes: float64(4), object(4)\n",
      "memory usage: 93.8+ KB\n"
     ]
    }
   ],
   "source": [
    "# Basic information of the data\n",
    "df_superstore.info()"
   ]
  },
  {
   "cell_type": "markdown",
   "id": "d63f6b9f",
   "metadata": {},
   "source": [
    "(object-category and others like int,float are numerical values)"
   ]
  },
  {
   "cell_type": "markdown",
   "id": "98fe5be1",
   "metadata": {},
   "source": [
    "**we have 4 numerical and 4 categorical Attributes**\n",
    "\n",
    "**There is null values present in some Attributes**"
   ]
  },
  {
   "cell_type": "code",
   "execution_count": 6,
   "id": "09f28159",
   "metadata": {},
   "outputs": [
    {
     "data": {
      "text/html": [
       "<div>\n",
       "<style scoped>\n",
       "    .dataframe tbody tr th:only-of-type {\n",
       "        vertical-align: middle;\n",
       "    }\n",
       "\n",
       "    .dataframe tbody tr th {\n",
       "        vertical-align: top;\n",
       "    }\n",
       "\n",
       "    .dataframe thead th {\n",
       "        text-align: right;\n",
       "    }\n",
       "</style>\n",
       "<table border=\"1\" class=\"dataframe\">\n",
       "  <thead>\n",
       "    <tr style=\"text-align: right;\">\n",
       "      <th></th>\n",
       "      <th>Sales</th>\n",
       "      <th>Quantity</th>\n",
       "      <th>Discount</th>\n",
       "      <th>Profit</th>\n",
       "    </tr>\n",
       "  </thead>\n",
       "  <tbody>\n",
       "    <tr>\n",
       "      <th>count</th>\n",
       "      <td>1.468000e+03</td>\n",
       "      <td>1.491000e+03</td>\n",
       "      <td>1495.000000</td>\n",
       "      <td>1495.000000</td>\n",
       "    </tr>\n",
       "    <tr>\n",
       "      <th>mean</th>\n",
       "      <td>4.541558e+06</td>\n",
       "      <td>2.236382e+12</td>\n",
       "      <td>0.160455</td>\n",
       "      <td>21.441985</td>\n",
       "    </tr>\n",
       "    <tr>\n",
       "      <th>std</th>\n",
       "      <td>1.478510e+08</td>\n",
       "      <td>6.432607e+13</td>\n",
       "      <td>0.208880</td>\n",
       "      <td>210.954594</td>\n",
       "    </tr>\n",
       "    <tr>\n",
       "      <th>min</th>\n",
       "      <td>1.080000e+00</td>\n",
       "      <td>1.000000e+00</td>\n",
       "      <td>0.000000</td>\n",
       "      <td>-3839.990400</td>\n",
       "    </tr>\n",
       "    <tr>\n",
       "      <th>25%</th>\n",
       "      <td>1.711200e+01</td>\n",
       "      <td>2.000000e+00</td>\n",
       "      <td>0.000000</td>\n",
       "      <td>1.712550</td>\n",
       "    </tr>\n",
       "    <tr>\n",
       "      <th>50%</th>\n",
       "      <td>5.305800e+01</td>\n",
       "      <td>3.000000e+00</td>\n",
       "      <td>0.200000</td>\n",
       "      <td>8.488800</td>\n",
       "    </tr>\n",
       "    <tr>\n",
       "      <th>75%</th>\n",
       "      <td>2.101925e+02</td>\n",
       "      <td>5.000000e+00</td>\n",
       "      <td>0.200000</td>\n",
       "      <td>28.137200</td>\n",
       "    </tr>\n",
       "    <tr>\n",
       "      <th>max</th>\n",
       "      <td>5.555556e+09</td>\n",
       "      <td>2.222222e+15</td>\n",
       "      <td>0.800000</td>\n",
       "      <td>3177.475000</td>\n",
       "    </tr>\n",
       "  </tbody>\n",
       "</table>\n",
       "</div>"
      ],
      "text/plain": [
       "              Sales      Quantity     Discount       Profit\n",
       "count  1.468000e+03  1.491000e+03  1495.000000  1495.000000\n",
       "mean   4.541558e+06  2.236382e+12     0.160455    21.441985\n",
       "std    1.478510e+08  6.432607e+13     0.208880   210.954594\n",
       "min    1.080000e+00  1.000000e+00     0.000000 -3839.990400\n",
       "25%    1.711200e+01  2.000000e+00     0.000000     1.712550\n",
       "50%    5.305800e+01  3.000000e+00     0.200000     8.488800\n",
       "75%    2.101925e+02  5.000000e+00     0.200000    28.137200\n",
       "max    5.555556e+09  2.222222e+15     0.800000  3177.475000"
      ]
     },
     "execution_count": 6,
     "metadata": {},
     "output_type": "execute_result"
    }
   ],
   "source": [
    "# Basic Description of the data\n",
    "df_superstore.describe()"
   ]
  },
  {
   "cell_type": "markdown",
   "id": "eb462218",
   "metadata": {},
   "source": [
    "- if difference between mean and median is high means outlier is present and it's high\n",
    "- if difference between mean and median is low means outlier is low"
   ]
  },
  {
   "cell_type": "markdown",
   "id": "9c85d8a9",
   "metadata": {},
   "source": [
    "- here 50% means median\n",
    "- And above mean is given "
   ]
  },
  {
   "cell_type": "code",
   "execution_count": 7,
   "id": "4646ede1",
   "metadata": {},
   "outputs": [
    {
     "data": {
      "text/plain": [
       "<Axes: >"
      ]
     },
     "execution_count": 7,
     "metadata": {},
     "output_type": "execute_result"
    },
    {
     "data": {
      "image/png": "[encoded data removed]",
      "text/plain": [
       "<Figure size 640x480 with 1 Axes>"
      ]
     },
     "metadata": {},
     "output_type": "display_data"
    }
   ],
   "source": [
    "# not for exam just practice it\n",
    "df_superstore.Profit.plot(kind=\"box\")"
   ]
  },
  {
   "cell_type": "code",
   "execution_count": null,
   "id": "f939c76e",
   "metadata": {},
   "outputs": [],
   "source": []
  },
  {
   "cell_type": "code",
   "execution_count": 8,
   "id": "e917d430",
   "metadata": {},
   "outputs": [
    {
     "data": {
      "text/plain": [
       "<Axes: >"
      ]
     },
     "execution_count": 8,
     "metadata": {},
     "output_type": "execute_result"
    },
    {
     "data": {
      "image/png": "[encoded data removed]",
      "text/plain": [
       "<Figure size 640x480 with 1 Axes>"
      ]
     },
     "metadata": {},
     "output_type": "display_data"
    }
   ],
   "source": [
    "# not for exam just practice it\n",
    "df_superstore.Discount.plot(kind=\"box\")"
   ]
  },
  {
   "cell_type": "markdown",
   "id": "b7b4f89e",
   "metadata": {},
   "source": [
    "**Inference**\n",
    "- there is problem with sales and quantity columns (because of e+)\n",
    "- (e+ means something is wrong)\n",
    "- Good amount of outliers are present in the profit column\n",
    "- Less amount of outliers are there in Discount column"
   ]
  },
  {
   "cell_type": "markdown",
   "id": "e41cb7d6",
   "metadata": {},
   "source": [
    "# Data Preprocessing\n",
    "\n",
    "- it is mandatory step - Data Analysis\n",
    "- 95 % cases perform data prepocessing\n",
    "- why preprocessing - in case of noise(to find noise- that it is present or not)\n",
    "- while performing data preprocessing on numerical column find- maximum, minimum, average\n",
    "\n",
    "## Sales"
   ]
  },
  {
   "cell_type": "code",
   "execution_count": 9,
   "id": "2f4c6e06",
   "metadata": {},
   "outputs": [
    {
     "data": {
      "text/plain": [
       "1.08"
      ]
     },
     "execution_count": 9,
     "metadata": {},
     "output_type": "execute_result"
    }
   ],
   "source": [
    "# find the min of the sales column\n",
    "df_superstore.Sales.min()"
   ]
  },
  {
   "cell_type": "code",
   "execution_count": 10,
   "id": "85d14c4a",
   "metadata": {},
   "outputs": [
    {
     "data": {
      "text/plain": [
       "5555555555.0"
      ]
     },
     "execution_count": 10,
     "metadata": {},
     "output_type": "execute_result"
    }
   ],
   "source": [
    "# find the max of the sales column \n",
    "df_superstore.Sales.max()"
   ]
  },
  {
   "cell_type": "code",
   "execution_count": 11,
   "id": "f3b00e14",
   "metadata": {},
   "outputs": [
    {
     "data": {
      "text/plain": [
       "4541557.692572481"
      ]
     },
     "execution_count": 11,
     "metadata": {},
     "output_type": "execute_result"
    }
   ],
   "source": [
    "# find the avg of the sales column \n",
    "# Average (mean)\n",
    "df_superstore.Sales.mean()"
   ]
  },
  {
   "cell_type": "markdown",
   "id": "17638840",
   "metadata": {},
   "source": [
    "- it is not possible for any company to have these much sales\n",
    "- to justify it\n",
    "- so draw workflow"
   ]
  },
  {
   "cell_type": "code",
   "execution_count": 12,
   "id": "e2dace32",
   "metadata": {},
   "outputs": [
    {
     "data": {
      "image/png": "[encoded data removed]",
      "text/plain": [
       "<Figure size 640x480 with 1 Axes>"
      ]
     },
     "metadata": {},
     "output_type": "display_data"
    }
   ],
   "source": [
    "# plot the boxplots\n",
    "df_superstore.Sales.plot(kind=\"box\")\n",
    "plt.show()"
   ]
  },
  {
   "cell_type": "markdown",
   "id": "a1ddf56e",
   "metadata": {},
   "source": [
    "### search what is le9 here ?\n",
    "- le9 is for maximum value \n",
    "- 5555555555.0\n",
    "- means 10 to power 9"
   ]
  },
  {
   "cell_type": "code",
   "execution_count": 13,
   "id": "c17d0b6c",
   "metadata": {},
   "outputs": [],
   "source": [
    "# remove the first outlier\n",
    "df_superstore=df_superstore[df_superstore[\"Sales\"]<df_superstore[\"Sales\"].mean()]"
   ]
  },
  {
   "cell_type": "code",
   "execution_count": 14,
   "id": "517ba4b7",
   "metadata": {},
   "outputs": [
    {
     "data": {
      "image/png": "[encoded data removed]",
      "text/plain": [
       "<Figure size 640x480 with 1 Axes>"
      ]
     },
     "metadata": {},
     "output_type": "display_data"
    }
   ],
   "source": [
    "# plot the box plot to check\n",
    "df_superstore.Sales.plot(kind=\"box\")\n",
    "plt.show()"
   ]
  },
  {
   "cell_type": "markdown",
   "id": "a1d9804e",
   "metadata": {},
   "source": [
    "# Quantity\n",
    "\n",
    "- it is numerical column"
   ]
  },
  {
   "cell_type": "code",
   "execution_count": 15,
   "id": "6d439b7b",
   "metadata": {},
   "outputs": [
    {
     "data": {
      "text/plain": [
       "0    2.0\n",
       "1    3.0\n",
       "2    2.0\n",
       "3    5.0\n",
       "4    2.0\n",
       "Name: Quantity, dtype: float64"
      ]
     },
     "execution_count": 15,
     "metadata": {},
     "output_type": "execute_result"
    }
   ],
   "source": [
    "# quantity\n",
    "df_superstore.Quantity.head()"
   ]
  },
  {
   "cell_type": "code",
   "execution_count": 16,
   "id": "a3c2c9e5",
   "metadata": {},
   "outputs": [
    {
     "data": {
      "text/plain": [
       "2222222222222220.0"
      ]
     },
     "execution_count": 16,
     "metadata": {},
     "output_type": "execute_result"
    }
   ],
   "source": [
    "# maximum\n",
    "df_superstore.Quantity.max()"
   ]
  },
  {
   "cell_type": "markdown",
   "id": "0b271e60",
   "metadata": {},
   "source": [
    "- it is noise because no company has this much quantity and not specialy grocery company\n",
    "- so find min"
   ]
  },
  {
   "cell_type": "code",
   "execution_count": 17,
   "id": "52e1b797",
   "metadata": {},
   "outputs": [
    {
     "data": {
      "text/plain": [
       "1.0"
      ]
     },
     "execution_count": 17,
     "metadata": {},
     "output_type": "execute_result"
    }
   ],
   "source": [
    "# minimum\n",
    "df_superstore.Quantity.min()\n",
    "# noise is still here beacause no company has minimum quantity 1"
   ]
  },
  {
   "cell_type": "code",
   "execution_count": 18,
   "id": "0a9d5f39",
   "metadata": {},
   "outputs": [
    {
     "data": {
      "text/plain": [
       "2283866822682.627"
      ]
     },
     "execution_count": 18,
     "metadata": {},
     "output_type": "execute_result"
    }
   ],
   "source": [
    "# mean(average)\n",
    "df_superstore.Quantity.mean()"
   ]
  },
  {
   "cell_type": "code",
   "execution_count": 19,
   "id": "f98b171a",
   "metadata": {},
   "outputs": [
    {
     "data": {
      "image/png": "[encoded data removed]",
      "text/plain": [
       "<Figure size 640x480 with 1 Axes>"
      ]
     },
     "metadata": {},
     "output_type": "display_data"
    }
   ],
   "source": [
    "# plot the box to identify the outlier\n",
    "df_superstore.Quantity.plot(kind=\"box\")\n",
    "plt.show()"
   ]
  },
  {
   "cell_type": "code",
   "execution_count": 20,
   "id": "ff6c8a87",
   "metadata": {},
   "outputs": [],
   "source": [
    "# remove it\n",
    "df_superstore=df_superstore[df_superstore[\"Quantity\"]<df_superstore[\"Quantity\"].mean() ]\n",
    "# and store it within that data frame (df_ superstore - existing data frame)"
   ]
  },
  {
   "cell_type": "code",
   "execution_count": 21,
   "id": "d0b177ac",
   "metadata": {},
   "outputs": [
    {
     "data": {
      "image/png": "[encoded data removed]",
      "text/plain": [
       "<Figure size 640x480 with 1 Axes>"
      ]
     },
     "metadata": {},
     "output_type": "display_data"
    }
   ],
   "source": [
    "# plot the boxplot\n",
    "df_superstore.Quantity.plot(kind=\"box\")\n",
    "plt.show()"
   ]
  },
  {
   "cell_type": "code",
   "execution_count": 22,
   "id": "88501fa4",
   "metadata": {},
   "outputs": [
    {
     "data": {
      "text/plain": [
       "1111111111111.0"
      ]
     },
     "execution_count": 22,
     "metadata": {},
     "output_type": "execute_result"
    }
   ],
   "source": [
    "# find max again to authenticate\n",
    "df_superstore.Quantity.max()"
   ]
  },
  {
   "cell_type": "markdown",
   "id": "358082bf",
   "metadata": {},
   "source": [
    "- compare maximum and average\n",
    "- maximum\n",
    "1111111111111.0\n",
    "- mean (average)\n",
    "2283866822682.627\n",
    "- here average is more than maximum value\n",
    "- means noise is still here\n",
    "- within above plot one outlier is present and we are gonna remove it"
   ]
  },
  {
   "cell_type": "code",
   "execution_count": 23,
   "id": "b1ba38aa",
   "metadata": {},
   "outputs": [],
   "source": [
    "# remove it\n",
    "df_superstore=df_superstore[df_superstore[\"Quantity\"]<df_superstore[\"Quantity\"].mean() ]\n",
    "# and store it within that data frame (df_ superstore - existing data frame)"
   ]
  },
  {
   "cell_type": "code",
   "execution_count": 24,
   "id": "7e701368",
   "metadata": {},
   "outputs": [
    {
     "data": {
      "image/png": "[encoded data removed]",
      "text/plain": [
       "<Figure size 640x480 with 1 Axes>"
      ]
     },
     "metadata": {},
     "output_type": "display_data"
    }
   ],
   "source": [
    "# plot the box plot again\n",
    "# learn to differnciate noise and outlier\n",
    "# search on you tube-noise and outlier (how to find and how to remove to analyse the data)\n",
    "df_superstore.Quantity.plot(kind=\"box\")\n",
    "plt.show()"
   ]
  },
  {
   "cell_type": "code",
   "execution_count": 25,
   "id": "cb4ad016",
   "metadata": {},
   "outputs": [
    {
     "data": {
      "text/plain": [
       "5555555.0"
      ]
     },
     "execution_count": 25,
     "metadata": {},
     "output_type": "execute_result"
    }
   ],
   "source": [
    "# now we have le power 6 - le6\n",
    "df_superstore.Quantity.max()"
   ]
  },
  {
   "cell_type": "markdown",
   "id": "38be87ec",
   "metadata": {},
   "source": [
    "- again paste remove it code because these much quantity is not acceptable means noise is    still here\n"
   ]
  },
  {
   "cell_type": "code",
   "execution_count": 26,
   "id": "4f359286",
   "metadata": {},
   "outputs": [],
   "source": [
    "# remove it\n",
    "df_superstore=df_superstore[df_superstore[\"Quantity\"]<df_superstore[\"Quantity\"].mean() ]\n",
    "# and store it within that data frame (df_ superstore - existing data frame)"
   ]
  },
  {
   "cell_type": "code",
   "execution_count": 27,
   "id": "24095833",
   "metadata": {},
   "outputs": [
    {
     "data": {
      "image/png": "[encoded data removed]",
      "text/plain": [
       "<Figure size 640x480 with 1 Axes>"
      ]
     },
     "metadata": {},
     "output_type": "display_data"
    }
   ],
   "source": [
    "df_superstore.Quantity.plot(kind=\"box\")\n",
    "plt.show()"
   ]
  },
  {
   "cell_type": "code",
   "execution_count": 28,
   "id": "b03b87f6",
   "metadata": {},
   "outputs": [
    {
     "data": {
      "text/plain": [
       "14.0"
      ]
     },
     "execution_count": 28,
     "metadata": {},
     "output_type": "execute_result"
    }
   ],
   "source": [
    "df_superstore.Quantity.max()"
   ]
  },
  {
   "cell_type": "markdown",
   "id": "e807eb4c",
   "metadata": {},
   "source": [
    "- small project \n",
    "- from linkedin solve the assignment\n",
    "- take dataset from github\n",
    "- something related to healthcare"
   ]
  },
  {
   "cell_type": "markdown",
   "id": "aca696d2",
   "metadata": {},
   "source": [
    "# Null value Handling"
   ]
  },
  {
   "cell_type": "code",
   "execution_count": 29,
   "id": "4236b3fe",
   "metadata": {},
   "outputs": [
    {
     "data": {
      "text/plain": [
       "State        72\n",
       "Segment       5\n",
       "Region       20\n",
       "Ship Mode    29\n",
       "Sales         0\n",
       "Quantity      0\n",
       "Discount      3\n",
       "Profit        3\n",
       "dtype: int64"
      ]
     },
     "execution_count": 29,
     "metadata": {},
     "output_type": "execute_result"
    }
   ],
   "source": [
    "# find the number of null value\n",
    "df_superstore.isnull().sum()"
   ]
  },
  {
   "cell_type": "code",
   "execution_count": 30,
   "id": "e744ec9b",
   "metadata": {},
   "outputs": [
    {
     "data": {
      "text/plain": [
       "State        4.945055\n",
       "Segment      0.343407\n",
       "Region       1.373626\n",
       "Ship Mode    1.991758\n",
       "Sales        0.000000\n",
       "Quantity     0.000000\n",
       "Discount     0.206044\n",
       "Profit       0.206044\n",
       "dtype: float64"
      ]
     },
     "execution_count": 30,
     "metadata": {},
     "output_type": "execute_result"
    }
   ],
   "source": [
    "# find the percentage of null value\n",
    "df_superstore.isnull().sum()/len(df_superstore)*100\n",
    "\n",
    "# to find percentage of null value first we found sum of null values then divided \n",
    "# it by length of given frame and multiply it by 100\n",
    "# perform it by above for exam and for understanding take below 4 steps "
   ]
  },
  {
   "cell_type": "code",
   "execution_count": 31,
   "id": "06d49252",
   "metadata": {},
   "outputs": [
    {
     "data": {
      "text/plain": [
       "State        72\n",
       "Segment       5\n",
       "Region       20\n",
       "Ship Mode    29\n",
       "Sales         0\n",
       "Quantity      0\n",
       "Discount      3\n",
       "Profit        3\n",
       "dtype: int64"
      ]
     },
     "execution_count": 31,
     "metadata": {},
     "output_type": "execute_result"
    }
   ],
   "source": [
    "# step 1\n",
    "# find the number of null value\n",
    "df_superstore.isnull().sum()"
   ]
  },
  {
   "cell_type": "code",
   "execution_count": 32,
   "id": "613c6a97",
   "metadata": {},
   "outputs": [
    {
     "data": {
      "text/plain": [
       "1456"
      ]
     },
     "execution_count": 32,
     "metadata": {},
     "output_type": "execute_result"
    }
   ],
   "source": [
    "# step 2\n",
    "len(df_superstore)"
   ]
  },
  {
   "cell_type": "code",
   "execution_count": 33,
   "id": "09c311c3",
   "metadata": {},
   "outputs": [],
   "source": [
    "# step 3\n",
    "result=df_superstore.isnull().sum()  /  len(df_superstore)"
   ]
  },
  {
   "cell_type": "code",
   "execution_count": 34,
   "id": "3109c820",
   "metadata": {},
   "outputs": [
    {
     "data": {
      "text/plain": [
       "State        4.945055\n",
       "Segment      0.343407\n",
       "Region       1.373626\n",
       "Ship Mode    1.991758\n",
       "Sales        0.000000\n",
       "Quantity     0.000000\n",
       "Discount     0.206044\n",
       "Profit       0.206044\n",
       "dtype: float64"
      ]
     },
     "execution_count": 34,
     "metadata": {},
     "output_type": "execute_result"
    }
   ],
   "source": [
    "# step 4\n",
    "result*100"
   ]
  },
  {
   "cell_type": "markdown",
   "id": "05048f64",
   "metadata": {},
   "source": [
    "- categorical : mode\n",
    "- numerical : mean"
   ]
  },
  {
   "cell_type": "code",
   "execution_count": 35,
   "id": "51a0f20a",
   "metadata": {},
   "outputs": [
    {
     "data": {
      "text/plain": [
       "0    California\n",
       "Name: State, dtype: object"
      ]
     },
     "execution_count": 35,
     "metadata": {},
     "output_type": "execute_result"
    }
   ],
   "source": [
    "# State\n",
    "# find the mode of that column\n",
    "df_superstore.State.mode()"
   ]
  },
  {
   "cell_type": "code",
   "execution_count": 36,
   "id": "21983753",
   "metadata": {},
   "outputs": [],
   "source": [
    "# imput (Bharvu) the null values\n",
    "df_superstore.State.fillna(df_superstore.State.mode(),inplace=True)\n"
   ]
  },
  {
   "cell_type": "code",
   "execution_count": 37,
   "id": "a692aa4a",
   "metadata": {},
   "outputs": [
    {
     "data": {
      "text/plain": [
       "State        4.945055\n",
       "Segment      0.343407\n",
       "Region       1.373626\n",
       "Ship Mode    1.991758\n",
       "Sales        0.000000\n",
       "Quantity     0.000000\n",
       "Discount     0.206044\n",
       "Profit       0.206044\n",
       "dtype: float64"
      ]
     },
     "execution_count": 37,
     "metadata": {},
     "output_type": "execute_result"
    }
   ],
   "source": [
    "# find the percentage of null value\n",
    "df_superstore.isnull().sum()/len(df_superstore)*100\n",
    "# no changes are here so apply indexing after mode in above statement In [39]\n",
    "# and run it and given statement again"
   ]
  },
  {
   "cell_type": "code",
   "execution_count": 38,
   "id": "361efb40",
   "metadata": {},
   "outputs": [
    {
     "data": {
      "text/plain": [
       "'California'"
      ]
     },
     "execution_count": 38,
     "metadata": {},
     "output_type": "execute_result"
    }
   ],
   "source": [
    "# find the mode of that column\n",
    "df_superstore.State.mode()[0]"
   ]
  },
  {
   "cell_type": "code",
   "execution_count": 39,
   "id": "872a1de4",
   "metadata": {},
   "outputs": [],
   "source": [
    "# imput (Bharvu) the null values\n",
    "df_superstore.State.fillna(df_superstore.State.mode()[0],inplace=True)"
   ]
  },
  {
   "cell_type": "code",
   "execution_count": 40,
   "id": "9e6764c1",
   "metadata": {},
   "outputs": [
    {
     "data": {
      "text/plain": [
       "State        0.000000\n",
       "Segment      0.343407\n",
       "Region       1.373626\n",
       "Ship Mode    1.991758\n",
       "Sales        0.000000\n",
       "Quantity     0.000000\n",
       "Discount     0.206044\n",
       "Profit       0.206044\n",
       "dtype: float64"
      ]
     },
     "execution_count": 40,
     "metadata": {},
     "output_type": "execute_result"
    }
   ],
   "source": [
    "# find the percentage of null value\n",
    "df_superstore.isnull().sum()/len(df_superstore)*100"
   ]
  },
  {
   "cell_type": "markdown",
   "id": "88a9dadb",
   "metadata": {},
   "source": [
    "# impute remaining columns"
   ]
  },
  {
   "cell_type": "code",
   "execution_count": 41,
   "id": "1c08b696",
   "metadata": {},
   "outputs": [
    {
     "data": {
      "text/plain": [
       "State        0.000000\n",
       "Segment      0.000000\n",
       "Region       0.000000\n",
       "Ship Mode    1.991758\n",
       "Sales        0.000000\n",
       "Quantity     0.000000\n",
       "Discount     0.206044\n",
       "Profit       0.206044\n",
       "dtype: float64"
      ]
     },
     "execution_count": 41,
     "metadata": {},
     "output_type": "execute_result"
    }
   ],
   "source": [
    "# impute the null values for Segment\n",
    "df_superstore.Segment.fillna(df_superstore.Segment.mode()[0],inplace=True)\n",
    "\n",
    "# impute the null values for Region\n",
    "df_superstore.Region.fillna(df_superstore.Region.mode()[0],inplace=True)\n",
    "\n",
    "# impute the null values for Ship Mode\n",
    "# (Ship Mode is categorical that's why we use mode here and Ship and Mode has space between\n",
    "#    so we took this column name within square bracket)\n",
    "\n",
    "# find the percentage of null value\n",
    "df_superstore.isnull().sum()/len(df_superstore)*100"
   ]
  },
  {
   "cell_type": "code",
   "execution_count": 42,
   "id": "5bcecf5a",
   "metadata": {},
   "outputs": [
    {
     "data": {
      "text/plain": [
       "State        0.000000\n",
       "Segment      0.000000\n",
       "Region       0.000000\n",
       "Ship Mode    1.991758\n",
       "Sales        0.000000\n",
       "Quantity     0.000000\n",
       "Discount     0.000000\n",
       "Profit       0.000000\n",
       "dtype: float64"
      ]
     },
     "execution_count": 42,
     "metadata": {},
     "output_type": "execute_result"
    }
   ],
   "source": [
    "# fill the null values for Discount\n",
    "df_superstore.Discount.fillna(df_superstore.Discount.mean(),inplace=True)\n",
    "# fill the null values for Sales\n",
    "df_superstore.Sales.fillna(df_superstore.Sales.mean(),inplace=True)\n",
    "# fill the null values for Quantity\n",
    "df_superstore.Quantity.fillna(df_superstore.Quantity.mean(),inplace=True)\n",
    "# fill the null values for Profit\n",
    "df_superstore.Profit.fillna(df_superstore.Profit.mean(),inplace=True)\n",
    "# find the percentage of null value\n",
    "df_superstore.isnull().sum()/len(df_superstore)*100"
   ]
  },
  {
   "cell_type": "code",
   "execution_count": 43,
   "id": "7e97e5c4",
   "metadata": {},
   "outputs": [
    {
     "data": {
      "text/plain": [
       "State        0.000000\n",
       "Segment      0.000000\n",
       "Region       0.000000\n",
       "Ship Mode    1.991758\n",
       "Sales        0.000000\n",
       "Quantity     0.000000\n",
       "Discount     0.000000\n",
       "Profit       0.000000\n",
       "dtype: float64"
      ]
     },
     "execution_count": 43,
     "metadata": {},
     "output_type": "execute_result"
    }
   ],
   "source": [
    "## Practice by me\n",
    "\n",
    "# find the mode of Segment  column\n",
    "df_superstore.Segment.mode()[0]\n",
    "# (this step is not mandatory if direct apply below then that's ok)\n",
    "\n",
    "# imput (Bharvu) the null values\n",
    "df_superstore.Segment.fillna(df_superstore.Segment.mode()[0],inplace=True)\n",
    "# find the percentage of null value\n",
    "df_superstore.isnull().sum()/len(df_superstore)*100"
   ]
  },
  {
   "cell_type": "markdown",
   "id": "9ad567b8",
   "metadata": {},
   "source": [
    "# Univariate Analysis"
   ]
  },
  {
   "cell_type": "code",
   "execution_count": 44,
   "id": "55e702f1",
   "metadata": {},
   "outputs": [
    {
     "data": {
      "text/plain": [
       "Index(['State', 'Segment', 'Region', 'Ship Mode', 'Sales', 'Quantity',\n",
       "       'Discount', 'Profit'],\n",
       "      dtype='object')"
      ]
     },
     "execution_count": 44,
     "metadata": {},
     "output_type": "execute_result"
    }
   ],
   "source": [
    "df_superstore.columns"
   ]
  },
  {
   "cell_type": "markdown",
   "id": "6df929bb",
   "metadata": {},
   "source": [
    "## 1. State"
   ]
  },
  {
   "cell_type": "markdown",
   "id": "6bd672bc",
   "metadata": {},
   "source": [
    "### Q.Find which state having highest number of sales (exam we may have questions like this)\n"
   ]
  },
  {
   "cell_type": "code",
   "execution_count": 45,
   "id": "a5b900da",
   "metadata": {},
   "outputs": [
    {
     "data": {
      "text/plain": [
       "California              318\n",
       "New York                183\n",
       "Texas                   127\n",
       "Pennsylvania            103\n",
       "Ohio                     74\n",
       "Illinois                 66\n",
       "Washington               56\n",
       "Florida                  55\n",
       "Michigan                 46\n",
       "Arizona                  43\n",
       "Colorado                 43\n",
       "North Carolina           35\n",
       "Virginia                 31\n",
       "Minnesota                29\n",
       "Georgia                  28\n",
       "New Jersey               24\n",
       "Kentucky                 20\n",
       "Indiana                  19\n",
       "Tennessee                12\n",
       "Alabama                  12\n",
       "Iowa                     11\n",
       "Utah                     11\n",
       "Massachusetts            11\n",
       "Wisconsin                10\n",
       "Oregon                    9\n",
       "Louisiana                 9\n",
       "Delaware                  8\n",
       "Arkansas                  8\n",
       "Connecticut               8\n",
       "Mississippi               7\n",
       "New Hampshire             5\n",
       "Rhode Island              5\n",
       "Maryland                  5\n",
       "Missouri                  5\n",
       "Montana                   4\n",
       "Nebraska                  4\n",
       "Nevada                    3\n",
       "Oklahoma                  3\n",
       "New Mexico                2\n",
       "District of Columbia      2\n",
       "South Carolina            2\n",
       "Name: State, dtype: int64"
      ]
     },
     "execution_count": 45,
     "metadata": {},
     "output_type": "execute_result"
    }
   ],
   "source": [
    "df_superstore.State.value_counts()"
   ]
  },
  {
   "cell_type": "code",
   "execution_count": 103,
   "id": "6ce16174",
   "metadata": {},
   "outputs": [
    {
     "data": {
      "image/png": "[encoded data removed]",
      "text/plain": [
       "<Figure size 640x480 with 1 Axes>"
      ]
     },
     "metadata": {},
     "output_type": "display_data"
    }
   ],
   "source": [
    "# Plot the value counts\n",
    "df_superstore.State.value_counts().plot(kind=\"bar\",color=\"purple\")\n",
    "\n",
    "# Title\n",
    "plt.title(\"Number of Sales State wise\")\n",
    "\n",
    "# x axis\n",
    "plt.xlabel(\"States\")\n",
    "\n",
    "# y axis\n",
    "plt.ylabel(\"Count\")\n",
    "\n",
    "# give the grid with red color\n",
    "plt.grid(color=\"green\")\n",
    "\n",
    "# setup the layout\n",
    "plt.tight_layout()\n",
    "\n",
    "plt.show()"
   ]
  },
  {
   "cell_type": "code",
   "execution_count": 47,
   "id": "2d96276f",
   "metadata": {},
   "outputs": [
    {
     "data": {
      "image/png": "[encoded data removed]",
      "text/plain": [
       "<Figure size 640x480 with 1 Axes>"
      ]
     },
     "metadata": {},
     "output_type": "display_data"
    }
   ],
   "source": [
    "# do the same for the top 5 state\n",
    "\n",
    "# Plot the value counts\n",
    "df_superstore.State.value_counts().head().plot(kind=\"bar\",color=\"purple\")\n",
    "\n",
    "# Title\n",
    "plt.title(\"Number of Sales State wise\")\n",
    "\n",
    "# x axis\n",
    "plt.xlabel(\"States\")\n",
    "\n",
    "# y axis\n",
    "plt.ylabel(\"Count\")\n",
    "\n",
    "# give the grid with red color\n",
    "plt.grid(color=\"yellow\")\n",
    "\n",
    "# setup the layout\n",
    "plt.tight_layout()\n",
    "\n",
    "plt.show()"
   ]
  },
  {
   "cell_type": "code",
   "execution_count": 48,
   "id": "b83b05f8",
   "metadata": {},
   "outputs": [
    {
     "data": {
      "text/plain": [
       "California      318\n",
       "New York        183\n",
       "Texas           127\n",
       "Pennsylvania    103\n",
       "Ohio             74\n",
       "Name: State, dtype: int64"
      ]
     },
     "execution_count": 48,
     "metadata": {},
     "output_type": "execute_result"
    }
   ],
   "source": [
    "df_superstore.State.value_counts().head()"
   ]
  },
  {
   "cell_type": "code",
   "execution_count": 49,
   "id": "c7e452db",
   "metadata": {},
   "outputs": [
    {
     "data": {
      "text/plain": [
       "Index(['California', 'New York', 'Texas', 'Pennsylvania', 'Ohio'], dtype='object')"
      ]
     },
     "execution_count": 49,
     "metadata": {},
     "output_type": "execute_result"
    }
   ],
   "source": [
    "# Fetch those 5 States in string\n",
    "df_superstore.State.value_counts().head().index"
   ]
  },
  {
   "cell_type": "markdown",
   "id": "ae64c1e8",
   "metadata": {},
   "source": [
    "**Inference**\n",
    "- Highest number of sales happend in california then 'New York', 'Texas', 'Pennsylvania', 'Ohio'"
   ]
  },
  {
   "cell_type": "code",
   "execution_count": 50,
   "id": "3332b1ab",
   "metadata": {},
   "outputs": [
    {
     "data": {
      "image/png": "[encoded data removed]",
      "text/plain": [
       "<Figure size 640x480 with 1 Axes>"
      ]
     },
     "metadata": {},
     "output_type": "display_data"
    }
   ],
   "source": [
    "# do same with bottom(last) 5 records\n",
    "\n",
    "# Plot the value counts\n",
    "df_superstore.State.value_counts().tail().plot(kind=\"bar\",color=\"purple\")\n",
    "\n",
    "# Title\n",
    "plt.title(\"Number of Sales State wise\")\n",
    "\n",
    "# x axis\n",
    "plt.xlabel(\"States\")\n",
    "\n",
    "# y axis\n",
    "plt.ylabel(\"Count\")\n",
    "\n",
    "# give the grid with red color\n",
    "plt.grid(color=\"yellow\")\n",
    "\n",
    "# setup the layout\n",
    "plt.tight_layout()\n",
    "\n",
    "plt.show()"
   ]
  },
  {
   "cell_type": "code",
   "execution_count": 51,
   "id": "1caca690",
   "metadata": {},
   "outputs": [
    {
     "data": {
      "text/plain": [
       "Nevada                  3\n",
       "Oklahoma                3\n",
       "New Mexico              2\n",
       "District of Columbia    2\n",
       "South Carolina          2\n",
       "Name: State, dtype: int64"
      ]
     },
     "execution_count": 51,
     "metadata": {},
     "output_type": "execute_result"
    }
   ],
   "source": [
    "df_superstore.State.value_counts().tail()"
   ]
  },
  {
   "cell_type": "code",
   "execution_count": 52,
   "id": "291132f7",
   "metadata": {},
   "outputs": [
    {
     "data": {
      "text/plain": [
       "Index(['Nevada', 'Oklahoma', 'New Mexico', 'District of Columbia',\n",
       "       'South Carolina'],\n",
       "      dtype='object')"
      ]
     },
     "execution_count": 52,
     "metadata": {},
     "output_type": "execute_result"
    }
   ],
   "source": [
    "# Fetch those 5 States in string\n",
    "df_superstore.State.value_counts().tail().index"
   ]
  },
  {
   "cell_type": "markdown",
   "id": "18939005",
   "metadata": {},
   "source": [
    "**Inference**\n",
    "- 'New Mexico', 'District of Columbia','South Carolina' these three states having only 2 sales."
   ]
  },
  {
   "cell_type": "code",
   "execution_count": 53,
   "id": "0b57e7f0",
   "metadata": {},
   "outputs": [
    {
     "data": {
      "text/plain": [
       "Index(['State', 'Segment', 'Region', 'Ship Mode', 'Sales', 'Quantity',\n",
       "       'Discount', 'Profit'],\n",
       "      dtype='object')"
      ]
     },
     "execution_count": 53,
     "metadata": {},
     "output_type": "execute_result"
    }
   ],
   "source": [
    "df_superstore.columns"
   ]
  },
  {
   "cell_type": "markdown",
   "id": "c9ad62f7",
   "metadata": {},
   "source": [
    "task \n",
    "- for second column\n",
    "- find the value counts\n",
    "- plot the value counts\n",
    "- find the top ans last of segment\n",
    "\n",
    "- (perform univariate analysis for the top Segments and perform univariate analysis for the bottom Segments)"
   ]
  },
  {
   "cell_type": "markdown",
   "id": "2d25b1cc",
   "metadata": {},
   "source": [
    "# 2. Segment"
   ]
  },
  {
   "cell_type": "code",
   "execution_count": 54,
   "id": "28a149e0",
   "metadata": {},
   "outputs": [
    {
     "data": {
      "text/plain": [
       "Consumer       781\n",
       "Corporate      415\n",
       "Home Office    260\n",
       "Name: Segment, dtype: int64"
      ]
     },
     "execution_count": 54,
     "metadata": {},
     "output_type": "execute_result"
    }
   ],
   "source": [
    "# find the value counts\n",
    "df_superstore.Segment.value_counts()"
   ]
  },
  {
   "cell_type": "code",
   "execution_count": 55,
   "id": "62f291aa",
   "metadata": {},
   "outputs": [
    {
     "data": {
      "image/png": "[encoded data removed]",
      "text/plain": [
       "<Figure size 640x480 with 1 Axes>"
      ]
     },
     "metadata": {},
     "output_type": "display_data"
    }
   ],
   "source": [
    "# plot the value counts\n",
    "df_superstore.Segment.value_counts().plot(kind=\"bar\",color=\"green\")\n",
    "plt.show()"
   ]
  },
  {
   "cell_type": "code",
   "execution_count": 56,
   "id": "e7275d10",
   "metadata": {},
   "outputs": [
    {
     "data": {
      "image/png": "[encoded data removed]",
      "text/plain": [
       "<Figure size 640x480 with 1 Axes>"
      ]
     },
     "metadata": {},
     "output_type": "display_data"
    }
   ],
   "source": [
    "# Plot the value counts\n",
    "df_superstore.Segment.value_counts().plot(kind=\"bar\",color=\"green\")\n",
    "\n",
    "# Title\n",
    "plt.title(\"Number of Sales Segment wise\")\n",
    "\n",
    "# x axis\n",
    "plt.xlabel(\"Segments\")\n",
    "\n",
    "# y axis\n",
    "plt.ylabel(\"Count\")\n",
    "\n",
    "# give the grid with red color\n",
    "plt.grid(color=\"brown\")\n",
    "\n",
    "# setup the layout\n",
    "plt.tight_layout()\n",
    "\n",
    "plt.show()"
   ]
  },
  {
   "cell_type": "code",
   "execution_count": 57,
   "id": "6e9d8a1e",
   "metadata": {},
   "outputs": [
    {
     "data": {
      "image/png": "[encoded data removed]",
      "text/plain": [
       "<Figure size 640x480 with 1 Axes>"
      ]
     },
     "metadata": {},
     "output_type": "display_data"
    }
   ],
   "source": [
    "# do the same for the top Segment\n",
    "\n",
    "# Plot the value counts\n",
    "df_superstore.Segment.value_counts().head().plot(kind=\"bar\",color=\"purple\")\n",
    "\n",
    "# Title\n",
    "plt.title(\"Number of Sales Segment wise\")\n",
    "\n",
    "# x axis\n",
    "plt.xlabel(\"Segments\")\n",
    "\n",
    "# y axis\n",
    "plt.ylabel(\"Count\")\n",
    "\n",
    "# give the grid with red color\n",
    "plt.grid(color=\"yellow\")\n",
    "\n",
    "# setup the layout\n",
    "plt.tight_layout()\n",
    "\n",
    "plt.show()"
   ]
  },
  {
   "cell_type": "code",
   "execution_count": 58,
   "id": "93b3bd89",
   "metadata": {},
   "outputs": [
    {
     "data": {
      "text/plain": [
       "Consumer       781\n",
       "Corporate      415\n",
       "Home Office    260\n",
       "Name: Segment, dtype: int64"
      ]
     },
     "execution_count": 58,
     "metadata": {},
     "output_type": "execute_result"
    }
   ],
   "source": [
    "df_superstore.Segment.value_counts().head()"
   ]
  },
  {
   "cell_type": "code",
   "execution_count": 59,
   "id": "664ed001",
   "metadata": {},
   "outputs": [
    {
     "data": {
      "text/plain": [
       "Index(['Consumer', 'Corporate', 'Home Office'], dtype='object')"
      ]
     },
     "execution_count": 59,
     "metadata": {},
     "output_type": "execute_result"
    }
   ],
   "source": [
    "# Fetch those Segments in string\n",
    "df_superstore.Segment.value_counts().head().index"
   ]
  },
  {
   "cell_type": "code",
   "execution_count": 60,
   "id": "56463cdc",
   "metadata": {},
   "outputs": [
    {
     "data": {
      "image/png": "[encoded data removed]",
      "text/plain": [
       "<Figure size 640x480 with 1 Axes>"
      ]
     },
     "metadata": {},
     "output_type": "display_data"
    }
   ],
   "source": [
    "# do the same for the bottom Segment\n",
    "\n",
    "# Plot the value counts\n",
    "df_superstore.Segment.value_counts().tail().plot(kind=\"bar\",color=\"purple\")\n",
    "\n",
    "# Title\n",
    "plt.title(\"Number of Sales Segment wise\")\n",
    "\n",
    "# x axis\n",
    "plt.xlabel(\"Segments\")\n",
    "\n",
    "# y axis\n",
    "plt.ylabel(\"Count\")\n",
    "\n",
    "# give the grid with red color\n",
    "plt.grid(color=\"yellow\")\n",
    "\n",
    "# setup the layout\n",
    "plt.tight_layout()\n",
    "\n",
    "plt.show()"
   ]
  },
  {
   "cell_type": "code",
   "execution_count": 61,
   "id": "460c6039",
   "metadata": {},
   "outputs": [
    {
     "data": {
      "text/plain": [
       "Consumer       781\n",
       "Corporate      415\n",
       "Home Office    260\n",
       "Name: Segment, dtype: int64"
      ]
     },
     "execution_count": 61,
     "metadata": {},
     "output_type": "execute_result"
    }
   ],
   "source": [
    "df_superstore.Segment.value_counts().tail()"
   ]
  },
  {
   "cell_type": "code",
   "execution_count": 62,
   "id": "de6f368c",
   "metadata": {},
   "outputs": [
    {
     "data": {
      "text/plain": [
       "Index(['Consumer', 'Corporate', 'Home Office'], dtype='object')"
      ]
     },
     "execution_count": 62,
     "metadata": {},
     "output_type": "execute_result"
    }
   ],
   "source": [
    "# Fetch those Segments in string\n",
    "df_superstore.Segment.value_counts().tail().index"
   ]
  },
  {
   "cell_type": "markdown",
   "id": "5bb23ae6",
   "metadata": {},
   "source": [
    "**Interpretation**\n",
    "- most of the time company serve to consumer directly.\n",
    "- And at the least we are serving to Home office."
   ]
  },
  {
   "cell_type": "code",
   "execution_count": 63,
   "id": "e4205ea7",
   "metadata": {},
   "outputs": [
    {
     "data": {
      "text/plain": [
       "Index(['State', 'Segment', 'Region', 'Ship Mode', 'Sales', 'Quantity',\n",
       "       'Discount', 'Profit'],\n",
       "      dtype='object')"
      ]
     },
     "execution_count": 63,
     "metadata": {},
     "output_type": "execute_result"
    }
   ],
   "source": [
    "df_superstore.columns"
   ]
  },
  {
   "cell_type": "markdown",
   "id": "57fc7f9f",
   "metadata": {},
   "source": [
    "## 3. Region"
   ]
  },
  {
   "cell_type": "code",
   "execution_count": 64,
   "id": "5255b282",
   "metadata": {},
   "outputs": [
    {
     "data": {
      "text/plain": [
       "East       468\n",
       "West       433\n",
       "Central    330\n",
       "South      225\n",
       "Name: Region, dtype: int64"
      ]
     },
     "execution_count": 64,
     "metadata": {},
     "output_type": "execute_result"
    }
   ],
   "source": [
    "# perform the value counts\n",
    "df_superstore.Region.value_counts()"
   ]
  },
  {
   "cell_type": "code",
   "execution_count": 65,
   "id": "3851e648",
   "metadata": {},
   "outputs": [
    {
     "data": {
      "image/png": "[encoded data removed]",
      "text/plain": [
       "<Figure size 640x480 with 1 Axes>"
      ]
     },
     "metadata": {},
     "output_type": "display_data"
    }
   ],
   "source": [
    "# Plot the value counts\n",
    "df_superstore.Region.value_counts().plot(kind=\"bar\",color=\"palegreen\")\n",
    "\n",
    "# Title\n",
    "plt.title(\"Number of Sales Region wise\",color=\"teal\")\n",
    "\n",
    "# x axis\n",
    "plt.xlabel(\"Region\",color=\"teal\")\n",
    "\n",
    "# y axis\n",
    "plt.ylabel(\"Count\",color=\"teal\")\n",
    "\n",
    "# give the grid with indigo color\n",
    "plt.grid(color=\"deeppink\")\n",
    "\n",
    "# setup the layout\n",
    "plt.tight_layout()\n",
    "\n",
    "# Rotate the xlables\n",
    "plt.xticks(rotation=45,color=\"gold\")\n",
    "# (here east, west, north and south known as xticks)\n",
    "\n",
    "plt.yticks(color=\"gold\")\n",
    "\n",
    "# show the graph\n",
    "plt.show()"
   ]
  },
  {
   "cell_type": "code",
   "execution_count": 66,
   "id": "de89bb6b",
   "metadata": {},
   "outputs": [],
   "source": [
    "# to add more colors within graphical representation\n",
    "# show color palet in matplotlib- Yahoo website\n",
    "# remember color names within exam"
   ]
  },
  {
   "cell_type": "markdown",
   "id": "effd557b",
   "metadata": {},
   "source": [
    "**Inference**\n",
    "- most of the sales happened in \"east\" region.\n",
    "- At the same time least sales happened in \"south\" region."
   ]
  },
  {
   "cell_type": "code",
   "execution_count": 67,
   "id": "2b40c3ac",
   "metadata": {},
   "outputs": [
    {
     "data": {
      "text/plain": [
       "Index(['State', 'Segment', 'Region', 'Ship Mode', 'Sales', 'Quantity',\n",
       "       'Discount', 'Profit'],\n",
       "      dtype='object')"
      ]
     },
     "execution_count": 67,
     "metadata": {},
     "output_type": "execute_result"
    }
   ],
   "source": [
    "df_superstore.columns"
   ]
  },
  {
   "cell_type": "markdown",
   "id": "97d95806",
   "metadata": {},
   "source": [
    "## 4. ship mode"
   ]
  },
  {
   "cell_type": "code",
   "execution_count": 68,
   "id": "7570d4ad",
   "metadata": {},
   "outputs": [
    {
     "data": {
      "text/plain": [
       "Standard Class    817\n",
       "Second Class      291\n",
       "First Class       264\n",
       "Same Day           55\n",
       "Name: Ship Mode, dtype: int64"
      ]
     },
     "execution_count": 68,
     "metadata": {},
     "output_type": "execute_result"
    }
   ],
   "source": [
    "# perform the value counts\n",
    "df_superstore[\"Ship Mode\"].value_counts()"
   ]
  },
  {
   "cell_type": "code",
   "execution_count": 69,
   "id": "9d2ea7e1",
   "metadata": {},
   "outputs": [
    {
     "data": {
      "image/png": "[encoded data removed]",
      "text/plain": [
       "<Figure size 640x480 with 1 Axes>"
      ]
     },
     "metadata": {},
     "output_type": "display_data"
    }
   ],
   "source": [
    "# Plot the value counts\n",
    "df_superstore[\"Ship Mode\"].value_counts().plot(kind=\"bar\",color=\"green\")\n",
    "\n",
    "# Title\n",
    "plt.title(\"Number of Sales ship mode wise\",color=\"teal\")\n",
    "\n",
    "# x axis\n",
    "plt.xlabel(\"ship mode\",color=\"teal\")\n",
    "\n",
    "# y axis\n",
    "plt.ylabel(\"Count\",color=\"teal\")\n",
    "\n",
    "# give the grid with indigo color\n",
    "plt.grid(color=\"purple\")\n",
    "\n",
    "# setup the layout\n",
    "plt.tight_layout()\n",
    "\n",
    "# Rotate the xlables\n",
    "plt.xticks(rotation=45,color=\"gold\")\n",
    "plt.yticks(color=\"gold\")\n",
    "\n",
    "plt.show()"
   ]
  },
  {
   "cell_type": "markdown",
   "id": "d1a8dad9",
   "metadata": {},
   "source": [
    "**Inference**\n",
    "- most of the people opt for standard class shipping mode\n",
    "- There is some cosumers ask for same day shipping mode"
   ]
  },
  {
   "cell_type": "code",
   "execution_count": 70,
   "id": "07087664",
   "metadata": {},
   "outputs": [
    {
     "data": {
      "text/plain": [
       "Index(['State', 'Segment', 'Region', 'Ship Mode', 'Sales', 'Quantity',\n",
       "       'Discount', 'Profit'],\n",
       "      dtype='object')"
      ]
     },
     "execution_count": 70,
     "metadata": {},
     "output_type": "execute_result"
    }
   ],
   "source": [
    "df_superstore.columns"
   ]
  },
  {
   "cell_type": "markdown",
   "id": "c2ed0445",
   "metadata": {},
   "source": [
    "## 5. Sales"
   ]
  },
  {
   "cell_type": "code",
   "execution_count": 71,
   "id": "b9a1363f",
   "metadata": {},
   "outputs": [
    {
     "data": {
      "image/png": "[encoded data removed]",
      "text/plain": [
       "<Figure size 640x480 with 1 Axes>"
      ]
     },
     "metadata": {},
     "output_type": "display_data"
    }
   ],
   "source": [
    "sns.histplot(df_superstore[\"Sales\"])\n",
    "plt.show()"
   ]
  },
  {
   "cell_type": "code",
   "execution_count": 72,
   "id": "bc7c9062",
   "metadata": {},
   "outputs": [
    {
     "data": {
      "image/png": "[encoded data removed]",
      "text/plain": [
       "<Figure size 640x480 with 1 Axes>"
      ]
     },
     "metadata": {},
     "output_type": "display_data"
    }
   ],
   "source": [
    "# plot the histogram and KDE plot for the sales column\n",
    "df_superstore.Sales.plot(kind=\"hist\",color=\"palegreen\")\n",
    "plt.title(\"Distribution of Sales\",color=\"teal\")\n",
    "plt.xlabel(\"Sales\",color=\"teal\")\n",
    "plt.ylabel(\"Frequency\",color=\"teal\")\n",
    "plt.xticks(color=\"red\")\n",
    "plt.yticks(color=\"red\")\n",
    "plt.grid(color=\"yellow\")\n",
    "plt.show()\n",
    "# in exam - make all graphs with formating as well"
   ]
  },
  {
   "cell_type": "code",
   "execution_count": 73,
   "id": "fd067917",
   "metadata": {},
   "outputs": [
    {
     "data": {
      "text/plain": [
       "12.960     9\n",
       "15.552     8\n",
       "32.400     6\n",
       "25.920     5\n",
       "6.480      5\n",
       "          ..\n",
       "2.376      1\n",
       "801.568    1\n",
       "14.952     1\n",
       "22.620     1\n",
       "13.120     1\n",
       "Name: Sales, Length: 1281, dtype: int64"
      ]
     },
     "execution_count": 73,
     "metadata": {},
     "output_type": "execute_result"
    }
   ],
   "source": [
    "# perform the value counts\n",
    "df_superstore.Sales.value_counts()"
   ]
  },
  {
   "cell_type": "code",
   "execution_count": 74,
   "id": "0c8ee401",
   "metadata": {},
   "outputs": [
    {
     "name": "stdout",
     "output_type": "stream",
     "text": [
      "minimum sales happend 1.08\n"
     ]
    }
   ],
   "source": [
    "# find the minimum sales\n",
    "print(\"minimum sales happend\",df_superstore.Sales.min())"
   ]
  },
  {
   "cell_type": "code",
   "execution_count": 75,
   "id": "a0f6c3a8",
   "metadata": {},
   "outputs": [
    {
     "name": "stdout",
     "output_type": "stream",
     "text": [
      "maximum Sales happened 8159.952\n"
     ]
    }
   ],
   "source": [
    "# find the maximum sales \n",
    "print(\"maximum Sales happened\",df_superstore.Sales.max())"
   ]
  },
  {
   "cell_type": "code",
   "execution_count": 76,
   "id": "a34cb397",
   "metadata": {},
   "outputs": [
    {
     "name": "stdout",
     "output_type": "stream",
     "text": [
      "Average Sales happend in mart is 231.9822949175824\n"
     ]
    }
   ],
   "source": [
    "# find average sales happend in mart\n",
    "print(\"Average Sales happend in mart is\",df_superstore.Sales.mean())"
   ]
  },
  {
   "cell_type": "code",
   "execution_count": 77,
   "id": "75d2e66f",
   "metadata": {},
   "outputs": [
    {
     "name": "stdout",
     "output_type": "stream",
     "text": [
      "Average Sales happend in mart is 231.98\n"
     ]
    }
   ],
   "source": [
    "# use round function to reduce decimal value\n",
    "\n",
    "# find average sales happend in mart\n",
    "print(\"Average Sales happend in mart is\",round(df_superstore.Sales.mean(),2))"
   ]
  },
  {
   "cell_type": "markdown",
   "id": "6bf78c50",
   "metadata": {},
   "source": [
    "**Interpretation**\n",
    "- minimum sales happend in the mart is 1.08\n",
    "- maximum sales happend in the mart is 8159.952\n",
    "- Average sales happend in the mart is 231.98\n",
    "- As we can see in last code there is large difference between mean and median of the sales column so it proves that there is outlier present\n",
    "\n",
    "- task :\n",
    "-        make histogram on paper for given data\n",
    "- col1(column name) - 1,1,1,1,2,2,4,5,6 (values)"
   ]
  },
  {
   "cell_type": "code",
   "execution_count": 78,
   "id": "b2c9dfe7",
   "metadata": {},
   "outputs": [
    {
     "data": {
      "text/html": [
       "<div>\n",
       "<style scoped>\n",
       "    .dataframe tbody tr th:only-of-type {\n",
       "        vertical-align: middle;\n",
       "    }\n",
       "\n",
       "    .dataframe tbody tr th {\n",
       "        vertical-align: top;\n",
       "    }\n",
       "\n",
       "    .dataframe thead th {\n",
       "        text-align: right;\n",
       "    }\n",
       "</style>\n",
       "<table border=\"1\" class=\"dataframe\">\n",
       "  <thead>\n",
       "    <tr style=\"text-align: right;\">\n",
       "      <th></th>\n",
       "      <th>col 1</th>\n",
       "    </tr>\n",
       "  </thead>\n",
       "  <tbody>\n",
       "    <tr>\n",
       "      <th>0</th>\n",
       "      <td>1</td>\n",
       "    </tr>\n",
       "    <tr>\n",
       "      <th>1</th>\n",
       "      <td>1</td>\n",
       "    </tr>\n",
       "    <tr>\n",
       "      <th>2</th>\n",
       "      <td>1</td>\n",
       "    </tr>\n",
       "    <tr>\n",
       "      <th>3</th>\n",
       "      <td>1</td>\n",
       "    </tr>\n",
       "    <tr>\n",
       "      <th>4</th>\n",
       "      <td>2</td>\n",
       "    </tr>\n",
       "    <tr>\n",
       "      <th>5</th>\n",
       "      <td>2</td>\n",
       "    </tr>\n",
       "    <tr>\n",
       "      <th>6</th>\n",
       "      <td>4</td>\n",
       "    </tr>\n",
       "    <tr>\n",
       "      <th>7</th>\n",
       "      <td>5</td>\n",
       "    </tr>\n",
       "    <tr>\n",
       "      <th>8</th>\n",
       "      <td>6</td>\n",
       "    </tr>\n",
       "  </tbody>\n",
       "</table>\n",
       "</div>"
      ],
      "text/plain": [
       "   col 1\n",
       "0      1\n",
       "1      1\n",
       "2      1\n",
       "3      1\n",
       "4      2\n",
       "5      2\n",
       "6      4\n",
       "7      5\n",
       "8      6"
      ]
     },
     "execution_count": 78,
     "metadata": {},
     "output_type": "execute_result"
    }
   ],
   "source": [
    "list=[1,1,1,1,2,2,4,5,6]\n",
    "col1=pd.DataFrame({\"col 1\":list})\n",
    "col1"
   ]
  },
  {
   "cell_type": "code",
   "execution_count": 79,
   "id": "02f47f96",
   "metadata": {},
   "outputs": [
    {
     "data": {
      "image/png": "[encoded data removed]",
      "text/plain": [
       "<Figure size 640x480 with 1 Axes>"
      ]
     },
     "metadata": {},
     "output_type": "display_data"
    }
   ],
   "source": [
    "col1.plot(kind=\"hist\")\n",
    "plt.show()"
   ]
  },
  {
   "cell_type": "code",
   "execution_count": 80,
   "id": "bd8dc364",
   "metadata": {},
   "outputs": [
    {
     "data": {
      "text/plain": [
       "178.92"
      ]
     },
     "execution_count": 80,
     "metadata": {},
     "output_type": "execute_result"
    }
   ],
   "source": [
    "# prove weather outlier is present within the data or not\n",
    "round(df_superstore.Sales.mean()-df_superstore.Sales.median(),2)"
   ]
  },
  {
   "cell_type": "code",
   "execution_count": 81,
   "id": "540ee33b",
   "metadata": {},
   "outputs": [],
   "source": [
    "# here differnce is 178 which is higher so outlier is present here \n",
    "# it is more than 100 here, but outlier depends on overall data and values"
   ]
  },
  {
   "cell_type": "code",
   "execution_count": 82,
   "id": "39a73ffc",
   "metadata": {},
   "outputs": [
    {
     "data": {
      "text/plain": [
       "Index(['State', 'Segment', 'Region', 'Ship Mode', 'Sales', 'Quantity',\n",
       "       'Discount', 'Profit'],\n",
       "      dtype='object')"
      ]
     },
     "execution_count": 82,
     "metadata": {},
     "output_type": "execute_result"
    }
   ],
   "source": [
    "df_superstore.columns"
   ]
  },
  {
   "cell_type": "markdown",
   "id": "a37dab4f",
   "metadata": {},
   "source": [
    "## 6.quantity"
   ]
  },
  {
   "cell_type": "code",
   "execution_count": 83,
   "id": "50b6b2fb",
   "metadata": {},
   "outputs": [],
   "source": [
    "# min\n",
    "# max\n",
    "# Average\n",
    "# Histogram with proper formatting\n",
    "# KDE plot with proper formatting\n",
    "# cheak weather there is outlier present or not"
   ]
  },
  {
   "cell_type": "code",
   "execution_count": 84,
   "id": "38f9c418",
   "metadata": {},
   "outputs": [
    {
     "data": {
      "text/plain": [
       "1.0"
      ]
     },
     "execution_count": 84,
     "metadata": {},
     "output_type": "execute_result"
    }
   ],
   "source": [
    "# find the minimum Quantity\n",
    "df_superstore.Quantity.min()"
   ]
  },
  {
   "cell_type": "code",
   "execution_count": 85,
   "id": "38d02230",
   "metadata": {},
   "outputs": [
    {
     "data": {
      "text/plain": [
       "14.0"
      ]
     },
     "execution_count": 85,
     "metadata": {},
     "output_type": "execute_result"
    }
   ],
   "source": [
    "# find the maximum Quantity\n",
    "df_superstore.Quantity.max()"
   ]
  },
  {
   "cell_type": "code",
   "execution_count": 86,
   "id": "8555842d",
   "metadata": {},
   "outputs": [
    {
     "data": {
      "text/plain": [
       "3.8"
      ]
     },
     "execution_count": 86,
     "metadata": {},
     "output_type": "execute_result"
    }
   ],
   "source": [
    "# find the average Quantity\n",
    "df_superstore.Quantity.mean()\n",
    "round(df_superstore.Quantity.mean(),2)"
   ]
  },
  {
   "cell_type": "code",
   "execution_count": 87,
   "id": "0241504e",
   "metadata": {},
   "outputs": [
    {
     "data": {
      "image/png": "[encoded data removed]",
      "text/plain": [
       "<Figure size 640x480 with 1 Axes>"
      ]
     },
     "metadata": {},
     "output_type": "display_data"
    }
   ],
   "source": [
    "# plot the histogram for Quantity\n",
    "df_superstore.Quantity.plot(kind=\"hist\",color=\"yellow\")\n",
    "plt.title(\"Distribution of Quantity\",color=\"teal\")\n",
    "plt.xlabel(\"Quantity\",color=\"teal\")\n",
    "plt.ylabel(\"Frequency\",color=\"teal\")\n",
    "plt.xticks(color=\"red\")\n",
    "plt.yticks(color=\"red\")\n",
    "plt.grid(color=\"blue\")\n",
    "plt.show()"
   ]
  },
  {
   "cell_type": "markdown",
   "id": "e250725f",
   "metadata": {},
   "source": [
    " # 7. Discount"
   ]
  },
  {
   "cell_type": "markdown",
   "id": "6fdb9ea7",
   "metadata": {},
   "source": [
    "- Task 1 : find the maximum discount provided to the consumers\n",
    "- Task 2 : find the minimum discount provided to the consumers\n",
    "- Task 3 : find the average discount provided to the consumers\n",
    "- Task 4 : Draw the Histogram to see the distribution of Discount column\n",
    "- Task 5 : Draw the KDE plot for the same column\n",
    "- Task 6 : formate both the graphs\n",
    "- Task 7 : find the average discount region wise\n",
    "- Task 8 : find the average discount state wise\n",
    "- Task 9 : find the average discount segment wise\n"
   ]
  },
  {
   "cell_type": "code",
   "execution_count": 88,
   "id": "4671b579",
   "metadata": {},
   "outputs": [
    {
     "data": {
      "text/plain": [
       "0.8"
      ]
     },
     "execution_count": 88,
     "metadata": {},
     "output_type": "execute_result"
    }
   ],
   "source": [
    "# Task 1 : find the maximum discount provided to the consumers\n",
    "# minimum discount\n",
    "df_superstore.Discount.max()"
   ]
  },
  {
   "cell_type": "code",
   "execution_count": 89,
   "id": "fde78bb1",
   "metadata": {},
   "outputs": [
    {
     "data": {
      "text/plain": [
       "0.0"
      ]
     },
     "execution_count": 89,
     "metadata": {},
     "output_type": "execute_result"
    }
   ],
   "source": [
    "# Task 2 : find the minimum discount provided to the consumers\n",
    "# maximum discount\n",
    "df_superstore.Discount.min()"
   ]
  },
  {
   "cell_type": "code",
   "execution_count": 90,
   "id": "a8fed3aa",
   "metadata": {},
   "outputs": [
    {
     "data": {
      "text/plain": [
       "0.16"
      ]
     },
     "execution_count": 90,
     "metadata": {},
     "output_type": "execute_result"
    }
   ],
   "source": [
    "# Task 3 : find the average discount provided to the consumers\n",
    "# average discount\n",
    "df_superstore.Discount.mean()\n",
    "round(df_superstore.Discount.mean(),2)"
   ]
  },
  {
   "cell_type": "code",
   "execution_count": 91,
   "id": "6f512ab9",
   "metadata": {},
   "outputs": [
    {
     "data": {
      "image/png": "[encoded data removed]",
      "text/plain": [
       "<Figure size 640x480 with 1 Axes>"
      ]
     },
     "metadata": {},
     "output_type": "display_data"
    }
   ],
   "source": [
    "# Task 4 : Draw the Histogram to see the distribution of Discount column\n",
    "# plot the histogram and KDE plot for the discount column\n",
    "df_superstore.Sales.plot(kind=\"hist\",color=\"palegreen\")\n",
    "plt.title(\"Distribution of Discount\",color=\"teal\")\n",
    "plt.xlabel(\"Discount\",color=\"teal\")\n",
    "plt.ylabel(\"Frequency\",color=\"teal\")\n",
    "plt.xticks(color=\"red\")\n",
    "plt.yticks(color=\"red\")\n",
    "plt.grid(color=\"yellow\")\n",
    "plt.show()"
   ]
  },
  {
   "cell_type": "code",
   "execution_count": 92,
   "id": "6e4be788",
   "metadata": {},
   "outputs": [
    {
     "data": {
      "image/png": "[encoded data removed]",
      "text/plain": [
       "<Figure size 640x480 with 1 Axes>"
      ]
     },
     "metadata": {},
     "output_type": "display_data"
    }
   ],
   "source": [
    "# Task 5 : Draw the KDE plot for the same column\n",
    "# plot the histogram and KDE plot for the discount column\n",
    "df_superstore.Sales.plot(kind=\"kde\",color=\"palegreen\")\n",
    "plt.title(\"Distribution of Discount\",color=\"teal\")\n",
    "plt.xlabel(\"Discount\",color=\"teal\")\n",
    "plt.ylabel(\"Frequency\",color=\"teal\")\n",
    "plt.xticks(color=\"red\")\n",
    "plt.yticks(color=\"red\")\n",
    "plt.grid(color=\"yellow\")\n",
    "\n",
    "plt.show()"
   ]
  },
  {
   "cell_type": "code",
   "execution_count": 93,
   "id": "8f4991ed",
   "metadata": {},
   "outputs": [],
   "source": [
    " # Task 6 : formate both the graphs"
   ]
  },
  {
   "cell_type": "code",
   "execution_count": 94,
   "id": "e41d64bf",
   "metadata": {},
   "outputs": [
    {
     "data": {
      "text/plain": [
       "Index(['State', 'Segment', 'Region', 'Ship Mode', 'Sales', 'Quantity',\n",
       "       'Discount', 'Profit'],\n",
       "      dtype='object')"
      ]
     },
     "execution_count": 94,
     "metadata": {},
     "output_type": "execute_result"
    }
   ],
   "source": [
    "df_superstore.columns"
   ]
  },
  {
   "cell_type": "code",
   "execution_count": 95,
   "id": "6efc365b",
   "metadata": {},
   "outputs": [
    {
     "data": {
      "text/plain": [
       "Region\n",
       "Central    0.228304\n",
       "East       0.153419\n",
       "South      0.140491\n",
       "West       0.126583\n",
       "Name: Discount, dtype: float64"
      ]
     },
     "execution_count": 95,
     "metadata": {},
     "output_type": "execute_result"
    }
   ],
   "source": [
    "# Task 7 : find the average discount region wise\n",
    "df_superstore.groupby(\"Region\")[\"Discount\"].mean()"
   ]
  },
  {
   "cell_type": "code",
   "execution_count": 96,
   "id": "6c7e65bc",
   "metadata": {},
   "outputs": [
    {
     "data": {
      "text/plain": [
       "State\n",
       "Alabama                 0.000000\n",
       "Arizona                 0.348837\n",
       "Arkansas                0.000000\n",
       "California              0.085253\n",
       "Colorado                0.311628\n",
       "Connecticut             0.000000\n",
       "Delaware                0.000000\n",
       "District of Columbia    0.000000\n",
       "Florida                 0.300909\n",
       "Georgia                 0.000000\n",
       "Illinois                0.397885\n",
       "Indiana                 0.000000\n",
       "Iowa                    0.000000\n",
       "Kentucky                0.000000\n",
       "Louisiana               0.000000\n",
       "Maryland                0.000000\n",
       "Massachusetts           0.000000\n",
       "Michigan                0.006522\n",
       "Minnesota               0.000000\n",
       "Mississippi             0.000000\n",
       "Missouri                0.000000\n",
       "Montana                 0.000000\n",
       "Nebraska                0.000000\n",
       "Nevada                  0.133333\n",
       "New Hampshire           0.000000\n",
       "New Jersey              0.012500\n",
       "New Mexico              0.000000\n",
       "New York                0.053552\n",
       "North Carolina          0.288571\n",
       "Ohio                    0.312162\n",
       "Oklahoma                0.000000\n",
       "Oregon                  0.366667\n",
       "Pennsylvania            0.333010\n",
       "Rhode Island            0.000000\n",
       "South Carolina          0.000000\n",
       "Tennessee               0.258333\n",
       "Texas                   0.366772\n",
       "Utah                    0.054545\n",
       "Virginia                0.005175\n",
       "Washington              0.057143\n",
       "Wisconsin               0.000000\n",
       "Name: Discount, dtype: float64"
      ]
     },
     "execution_count": 96,
     "metadata": {},
     "output_type": "execute_result"
    }
   ],
   "source": [
    "# Task 8 : find the average discount state wise\n",
    "df_superstore.groupby(\"State\")[\"Discount\"].mean()"
   ]
  },
  {
   "cell_type": "code",
   "execution_count": 97,
   "id": "cf6c4efe",
   "metadata": {},
   "outputs": [
    {
     "data": {
      "text/plain": [
       "Segment\n",
       "Consumer       0.157184\n",
       "Corporate      0.167639\n",
       "Home Office    0.158579\n",
       "Name: Discount, dtype: float64"
      ]
     },
     "execution_count": 97,
     "metadata": {},
     "output_type": "execute_result"
    }
   ],
   "source": [
    "# Task 9 : find the average discount segment wise\n",
    "df_superstore.groupby(\"Segment\")[\"Discount\"].mean()\n",
    "# here we want average that's why mean we can add median and mode as well as per instructions"
   ]
  },
  {
   "cell_type": "markdown",
   "id": "9786a4c2",
   "metadata": {},
   "source": [
    "### chatgpt\n",
    "- machine learning\n",
    "- deep learning\n",
    "- natural language processing\n",
    "\n",
    "input -> ml (predictions)- store in form of neurons(dl) -> nlp -> output\n",
    "\n",
    "- prompt engineering"
   ]
  },
  {
   "cell_type": "code",
   "execution_count": null,
   "id": "c558093d",
   "metadata": {},
   "outputs": [],
   "source": []
  }
 ],
 "metadata": {
  "kernelspec": {
   "display_name": "Python 3 (ipykernel)",
   "language": "python",
   "name": "python3"
  },
  "language_info": {
   "codemirror_mode": {
    "name": "ipython",
    "version": 3
   },
   "file_extension": ".py",
   "mimetype": "text/x-python",
   "name": "python",
   "nbconvert_exporter": "python",
   "pygments_lexer": "ipython3",
   "version": "3.10.9"
  }
 },
 "nbformat": 4,
 "nbformat_minor": 5
}
